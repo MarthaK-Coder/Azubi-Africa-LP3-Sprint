{
 "cells": [
  {
   "cell_type": "markdown",
   "metadata": {},
   "source": [
    "## ENHANCING STORE SALES PREDICTION FOR FAVORITA."
   ]
  },
  {
   "cell_type": "markdown",
   "metadata": {},
   "source": [
    "## 1. BUSINESS UNDERSTANDING\n",
    "Corporation Favorita is a significant actor in Ecuador's dynamic economic environment and contributes to the country's economic diversification as a result of the country's strong reliance on oil prices. Favorita, a complex Ecuadorian business, operates both inside and outside of national borders and makes investments in a range of industries to support economic resilience.\n",
    "\n",
    "Corporation Favorita is aware of the crucial necessity for well-informed decision-making in its pursuit of sustainable growth and economic stability. In order to achieve this, the company aims to maximize the potential of data-driven insights, particularly with regard to its grocery retail operations. Favorita intends to bolster its market presence, optimize its offers, and contribute to the resiliency of the country's economy by diving into the complex patterns of retail sales, product dynamics, and transaction behaviors.\n",
    "\n",
    "## Objectives of the Project.\n",
    "1.  Investigate the performance variations across different Favorita stores.\n",
    "2. Create reliable time series forecasting models that can accurately anticipate unit sales for the wide range of products sold in different Favorita stores.\n",
    "3. Assess the impact of promotional strategies on sales. By analyzing the correlation between promotions and sales spikes, the project aims to determine the efficacy of different promotional tactics and optimize their deployment.\n",
    "4. Conduct a comprehensive analysis of annual transaction volumes, trends, and variations."
   ]
  },
  {
   "cell_type": "markdown",
   "metadata": {},
   "source": [
    "## 2. DATA COLLECTION AND DATA PREPARATION\n",
    "\n",
    "    2.1 DATA COLLECTION"
   ]
  },
  {
   "cell_type": "markdown",
   "metadata": {},
   "source": [
    "Installations and Importing the necessary libraries"
   ]
  },
  {
   "cell_type": "code",
   "execution_count": 1,
   "metadata": {},
   "outputs": [
    {
     "name": "stdout",
     "output_type": "stream",
     "text": [
      "Requirement already satisfied: pyodbc in c:\\users\\lenovo\\appdata\\local\\programs\\python\\python311\\lib\\site-packages (4.0.39)Note: you may need to restart the kernel to use updated packages.\n",
      "\n",
      "Requirement already satisfied: python-dotenv in c:\\users\\lenovo\\appdata\\local\\programs\\python\\python311\\lib\\site-packages (1.0.0)\n",
      "Note: you may need to restart the kernel to use updated packages.\n"
     ]
    }
   ],
   "source": [
    "#Install pyodbc and python-dotenv\n",
    "%pip install pyodbc  \n",
    "%pip install python-dotenv"
   ]
  },
  {
   "cell_type": "code",
   "execution_count": 2,
   "metadata": {},
   "outputs": [],
   "source": [
    "#Importing the necessary Libraries.\n",
    "# Libraries to collect and load/read data\n",
    "import pyodbc                    #\n",
    "from dotenv import dotenv_values #import the dotenv_values function from the dotenv package\n",
    "import pandas as pd\n",
    "import numpy as np\n",
    "import os\n",
    "import warnings \n",
    "\n",
    "#Libraries for Vizualization and EDA\n",
    "import matplotlib.pyplot as plt\n",
    "import matplotlib.ticker as ticker\n",
    "import seaborn as sns"
   ]
  },
  {
   "cell_type": "code",
   "execution_count": null,
   "metadata": {},
   "outputs": [],
   "source": []
  }
 ],
 "metadata": {
  "kernelspec": {
   "display_name": "Python 3",
   "language": "python",
   "name": "python3"
  },
  "language_info": {
   "codemirror_mode": {
    "name": "ipython",
    "version": 3
   },
   "file_extension": ".py",
   "mimetype": "text/x-python",
   "name": "python",
   "nbconvert_exporter": "python",
   "pygments_lexer": "ipython3",
   "version": "3.11.4"
  },
  "orig_nbformat": 4
 },
 "nbformat": 4,
 "nbformat_minor": 2
}
